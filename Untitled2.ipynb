{
  "nbformat": 4,
  "nbformat_minor": 0,
  "metadata": {
    "colab": {
      "provenance": [],
      "authorship_tag": "ABX9TyMcmmuPHzdsAFAgM1IOJQ7j",
      "include_colab_link": true
    },
    "kernelspec": {
      "name": "python3",
      "display_name": "Python 3"
    },
    "language_info": {
      "name": "python"
    }
  },
  "cells": [
    {
      "cell_type": "markdown",
      "metadata": {
        "id": "view-in-github",
        "colab_type": "text"
      },
      "source": [
        "<a href=\"https://colab.research.google.com/github/Hong-Chaewon/test/blob/main/Untitled2.ipynb\" target=\"_parent\"><img src=\"https://colab.research.google.com/assets/colab-badge.svg\" alt=\"Open In Colab\"/></a>"
      ]
    },
    {
      "cell_type": "code",
      "source": [
        "# [Pandas] Cheat Sheet\n",
        "\n",
        "# By d056120"
      ],
      "metadata": {
        "id": "qQ5dVUpemjQi"
      },
      "execution_count": 13,
      "outputs": []
    },
    {
      "cell_type": "code",
      "execution_count": null,
      "metadata": {
        "id": "Xio7Sn92lyEi"
      },
      "outputs": [],
      "source": [
        "# 라이브러리 설치\n",
        "\n",
        "import pandas as pd\n",
        ": 라이브러리 설치"
      ]
    },
    {
      "cell_type": "code",
      "source": [
        "# 데이터 불러오기\n",
        "\n",
        "pd.read_csv('파일명.csv')\n",
        ": CSV 파일에서 데이터를 읽어옴\n",
        "pd.read_excel('파일명.xlsx')\n",
        ": Excel 파일에서 데이터를 읽어옴"
      ],
      "metadata": {
        "id": "g7DB6bvjmFA6"
      },
      "execution_count": null,
      "outputs": []
    },
    {
      "cell_type": "code",
      "source": [
        "# 데이터 정보 확인\n",
        "\n",
        "df.head()\n",
        ": 데이터프레임의 처음 5개 행\n",
        "df.info()\n",
        ": 데이터프레임의 각 열의 정보를 요약\n",
        "df.describe()\n",
        ": 데이터프레임의 기술 통계 정보\n",
        "df.shape\n",
        ": 데이터프레임의 행과 열의 개수를 반환"
      ],
      "metadata": {
        "id": "12GQLauPmHJK"
      },
      "execution_count": null,
      "outputs": []
    },
    {
      "cell_type": "code",
      "source": [
        "# 데이터 조작\n",
        "\n",
        "df['열이름']\n",
        ": 특정 열을 선택\n",
        "df[['열1', '열2']]\n",
        ": 여러 열을 선택합니다.\n",
        "df.loc[행인덱스, '열이름']\n",
        ": 특정 행과 열을 선택\n",
        "df.iloc[행번호, 열번호]\n",
        ": 특정 행과 열을 숫자로 선택\n",
        "df.drop('열이름', axis=1)\n",
        ": 열을 삭제\n",
        "df.rename(columns={'이전이름': '새이름'})\n",
        ": 열의 이름을 변경\n",
        "df.groupby('열이름').agg({'다른열': '함수'})\n",
        ": 그룹화하고 집계 함수를 적용\n",
        "df.merge(other_df, on='공통열')\n",
        ": 두 데이터프레임을 병합\n",
        "pd.concat([df1, df2], axis=0)\n",
        ": 두 데이터프레임을 연결\n",
        "df.T\n",
        ": 데이터프레임의 전치(행과 열을 바꿈)를 수행"
      ],
      "metadata": {
        "id": "dsS-ABqXmImq"
      },
      "execution_count": null,
      "outputs": []
    },
    {
      "cell_type": "code",
      "source": [
        "# 열 이름/인덱스 이름 변경\n",
        "\n",
        "df.columns = ['새로운열1', '새로운열2']\n",
        ": 모든 열의 이름을 변경\n",
        "df.rename(columns={'이전이름': '새이름'}, inplace=True)\n",
        ": 특정 열의 이름을 변경\n",
        "df.rename(index={'이전인덱스': '새인덱스'}, inplace=True)\n",
        ": 특정 행의 인덱스를 변경"
      ],
      "metadata": {
        "id": "kq0MaK0PmKKe"
      },
      "execution_count": null,
      "outputs": []
    },
    {
      "cell_type": "code",
      "source": [
        "# 데이터 병합\n",
        "\n",
        "pd.concat([df1, df2], axis=1)\n",
        ": 두 개의 데이터프레임을 열 방향으로 연결\n",
        "df.merge(other_df, on='공통열')\n",
        ": 두 개의 데이터프레임을 특정 열을 기준으로 병합"
      ],
      "metadata": {
        "id": "3p06jI9EmLVB"
      },
      "execution_count": null,
      "outputs": []
    },
    {
      "cell_type": "code",
      "source": [
        "# 데이터 전처리\n",
        "\n",
        "df.dropna()\n",
        ": 결측값이 있는 행을 삭제\n",
        "df.fillna(값)\n",
        ": 결측값을 지정된 값으로 채움\n",
        "df.isnull()\n",
        ": 각 요소가 결측값인지 여부를 확인\n",
        "df.duplicated()\n",
        ": 중복된 행을 확인\n",
        "df.drop_duplicates()\n",
        ": 중복된 행을 삭제\n",
        "df.sort_values(by='열이름')\n",
        ": 특정 열을 기준으로 데이터를 정렬"
      ],
      "metadata": {
        "id": "gnEwdE34mMm5"
      },
      "execution_count": null,
      "outputs": []
    },
    {
      "cell_type": "code",
      "source": [
        "# 기타\n",
        "\n",
        "df.apply(함수)\n",
        ": 함수를 열 또는 행에 적용\n",
        "pd.to_datetime(df['열이름'])\n",
        ": 날짜 열을 datetime 형식으로 변환\n",
        "df.plot(kind='그래프종류')\n",
        ": 데이터프레임을 시각화\n",
        "pd.get_dummies(df['열이름'])\n",
        ": 범주형 변수를 더미 변수로 변환"
      ],
      "metadata": {
        "id": "FTS0LitdmNmr"
      },
      "execution_count": null,
      "outputs": []
    },
    {
      "cell_type": "code",
      "source": [
        "# 날짜 및 시간 관련\n",
        "\n",
        "df['날짜열'].dt.year, df['날짜열'].dt.month, 등\n",
        ": 날짜 열에서 연도, 월 등을 추출\n",
        "pd.to_timedelta(df['시간열'])\n",
        ": 시간 열을 timedelta 형식으로 변환\n",
        "df.resample('주차').mean()\n",
        ": 주차별로 데이터를 리샘플링하고 평균을 계산"
      ],
      "metadata": {
        "id": "GYJi9gvtmPns"
      },
      "execution_count": null,
      "outputs": []
    },
    {
      "cell_type": "code",
      "source": [
        "# 인덱스 조작\n",
        "\n",
        "df.set_index('열이름')\n",
        ": 특정 열을 인덱스로 설정\n",
        "df.reset_index()\n",
        ": 인덱스를 기본값으로 재설정"
      ],
      "metadata": {
        "id": "r6xMCwS6mQ4c"
      },
      "execution_count": null,
      "outputs": []
    }
  ]
}